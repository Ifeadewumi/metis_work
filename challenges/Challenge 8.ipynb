{
 "cells": [
  {
   "cell_type": "markdown",
   "metadata": {},
   "source": [
    "### Classification Error Metric Challenges\n",
    "\n",
    "**Settings:  Where applicable, use test_size=0.30, random_state=4444.  This will permit comparison of results across users.\n",
    "\n",
    "*These reference the Classification Challenges.*"
   ]
  },
  {
   "cell_type": "code",
   "execution_count": 3,
   "metadata": {
    "collapsed": true
   },
   "outputs": [],
   "source": [
    "import pandas as pd\n",
    "import numpy as np"
   ]
  },
  {
   "cell_type": "markdown",
   "metadata": {},
   "source": [
    "\n",
    "\n",
    "#### Challenge 1\n",
    "\n",
    "For the house representatives data set, calculate the accuracy, precision, recall and f1 scores of each classifier you built (on the test set).\n",
    "\n",
    "\n"
   ]
  },
  {
   "cell_type": "code",
   "execution_count": 4,
   "metadata": {},
   "outputs": [],
   "source": [
    "df = pd.read_csv('https://archive.ics.uci.edu/ml/machine-learning-databases/voting-records/house-votes-84.data', header=None)"
   ]
  },
  {
   "cell_type": "code",
   "execution_count": 10,
   "metadata": {},
   "outputs": [],
   "source": [
    "df.iloc[:,1:] = df.iloc[:,1:].applymap(lambda x: 1 if x == 'y' else (0 if x == 'n' else '?') )"
   ]
  },
  {
   "cell_type": "code",
   "execution_count": 11,
   "metadata": {},
   "outputs": [],
   "source": [
    "def get_mean_of_column(series):\n",
    "    return pd.to_numeric(series, errors=\"coerce\").mean()\n",
    "\n",
    "for i in range(1,17):\n",
    "    df[i] = df[i].map(lambda x: get_mean_of_column(df[i]) if x == '?' else x)"
   ]
  },
  {
   "cell_type": "code",
   "execution_count": 44,
   "metadata": {
    "collapsed": true
   },
   "outputs": [],
   "source": [
    "y = df[0]\n",
    "X = df.drop(0, axis=1)"
   ]
  },
  {
   "cell_type": "code",
   "execution_count": 45,
   "metadata": {},
   "outputs": [],
   "source": [
    "from sklearn.cross_validation import train_test_split\n",
    "from sklearn.neighbors import KNeighborsClassifier\n",
    "from sklearn.metrics import accuracy_score"
   ]
  },
  {
   "cell_type": "code",
   "execution_count": 46,
   "metadata": {},
   "outputs": [],
   "source": [
    "X_train, X_test, y_train, y_test = train_test_split(X, y, test_size=.30, random_state=4444)"
   ]
  },
  {
   "cell_type": "code",
   "execution_count": 47,
   "metadata": {
    "collapsed": true
   },
   "outputs": [],
   "source": [
    "nc = KNeighborsClassifier(n_neighbors=6)\n",
    "nc.fit(X_train, y_train)\n",
    "y_pred = nc.predict(X_test)"
   ]
  },
  {
   "cell_type": "code",
   "execution_count": 48,
   "metadata": {},
   "outputs": [],
   "source": [
    "from sklearn import metrics"
   ]
  },
  {
   "cell_type": "code",
   "execution_count": 49,
   "metadata": {
    "collapsed": true
   },
   "outputs": [],
   "source": [
    "from sklearn.linear_model import LogisticRegression"
   ]
  },
  {
   "cell_type": "code",
   "execution_count": 105,
   "metadata": {},
   "outputs": [],
   "source": [
    "logm = LogisticRegression()\n",
    "logm.fit(X_train, y_train)\n",
    "y_log_pred = logm.predict(X_test)"
   ]
  },
  {
   "cell_type": "code",
   "execution_count": 92,
   "metadata": {
    "scrolled": true
   },
   "outputs": [
    {
     "name": "stdout",
     "output_type": "stream",
     "text": [
      "Scores for Logistic Regression Model\n",
      "Precision: 0.925925925926\n",
      "Recall: 0.974025974026\n",
      "F1: 0.949367088608\n"
     ]
    }
   ],
   "source": [
    "# print(metrics.confusion_matrix(y_test, y_log_pred))\n",
    "# Retrieve precision\n",
    "print(\"Scores for Logistic Regression Model\")\n",
    "p = metrics.precision_score(y_test, y_log_pred, pos_label=\"democrat\")\n",
    "# Retrieve Recall\n",
    "r = metrics.recall_score(y_test, y_log_pred, pos_label=\"democrat\")\n",
    "# Print precision and recall\n",
    "print ('Precision: ' + str(p))\n",
    "print ('Recall: ' + str(r))\n",
    "# # Retrieve F1 from sklearn and print\n",
    "print ('F1: ' + str(metrics.f1_score(y_test, y_log_pred, pos_label=\"democrat\")))"
   ]
  },
  {
   "cell_type": "code",
   "execution_count": 66,
   "metadata": {},
   "outputs": [
    {
     "name": "stdout",
     "output_type": "stream",
     "text": [
      "Scores for K Neighbors Model\n",
      "Precision: 0.925\n",
      "Recall: 0.961038961039\n",
      "F1: 0.942675159236\n"
     ]
    }
   ],
   "source": [
    "# Retrieve precision\n",
    "print(\"Scores for K Neighbors Model\")\n",
    "p = metrics.precision_score(y_test, y_pred, pos_label=\"democrat\")\n",
    "# Retrieve Recall\n",
    "r = metrics.recall_score(y_test, y_pred, pos_label=\"democrat\")\n",
    "# Print precision and recall\n",
    "print ('Precision: ' + str(p))\n",
    "print ('Recall: ' + str(r))\n",
    "# Retrieve F1 from sklearn and print\n",
    "print ('F1: ' + str(metrics.f1_score(y_test, y_pred, pos_label=\"democrat\")))"
   ]
  },
  {
   "cell_type": "markdown",
   "metadata": {},
   "source": [
    "#### Challenge 2\n",
    "\n",
    "For each, draw the ROC curve and calculate the AUC.\n"
   ]
  },
  {
   "cell_type": "code",
   "execution_count": 123,
   "metadata": {},
   "outputs": [],
   "source": [
    "import matplotlib.pyplot as plt\n",
    "import seaborn as sns\n",
    "%matplotlib inline\n",
    "sns.set()\n",
    "plt.style.use('fivethirtyeight')"
   ]
  },
  {
   "cell_type": "code",
   "execution_count": 133,
   "metadata": {},
   "outputs": [],
   "source": [
    "fpr, tpr, thresholds = metrics.roc_curve(y_test, logm.predict_proba(X_test)[:, 0], pos_label=\"democrat\")"
   ]
  },
  {
   "cell_type": "code",
   "execution_count": 134,
   "metadata": {},
   "outputs": [
    {
     "name": "stdout",
     "output_type": "stream",
     "text": [
      "AUC of Logistic Regression 0.987734487734\n"
     ]
    },
    {
     "data": {
      "image/png": "[encoded data removed]",
      "text/plain": [
       "<matplotlib.figure.Figure at 0x1a1c2554a8>"
      ]
     },
     "metadata": {},
     "output_type": "display_data"
    }
   ],
   "source": [
    "plt.plot(fpr, tpr)\n",
    "plt.xlabel('False Positive Rate')\n",
    "plt.ylabel('True Positive Rate')\n",
    "plt.title('ROC of Logistic Regression model');\n",
    "print('AUC of Logistic Regression', metrics.auc(fpr, tpr))"
   ]
  },
  {
   "cell_type": "code",
   "execution_count": 130,
   "metadata": {},
   "outputs": [],
   "source": [
    "fpr, tpr, thresholds = metrics.roc_curve(y_test, nc.predict_proba(X_test)[:, 0], pos_label=\"democrat\")"
   ]
  },
  {
   "cell_type": "code",
   "execution_count": 132,
   "metadata": {},
   "outputs": [
    {
     "name": "stdout",
     "output_type": "stream",
     "text": [
      "AUC of KNeighbors 0.948412698413\n"
     ]
    },
    {
     "data": {
      "image/png": "[encoded data removed]",
      "text/plain": [
       "<matplotlib.figure.Figure at 0x1a1bd8d828>"
      ]
     },
     "metadata": {},
     "output_type": "display_data"
    }
   ],
   "source": [
    "plt.plot(fpr, tpr)\n",
    "plt.xlabel('False Positive Rate')\n",
    "plt.ylabel('True Positive Rate')\n",
    "plt.title('ROC of K Neighbors model');\n",
    "print('AUC of KNeighbors', metrics.auc(fpr, tpr))"
   ]
  },
  {
   "cell_type": "markdown",
   "metadata": {},
   "source": [
    "\n",
    "\n",
    "#### Challenge 3\n",
    "\n",
    "Calculate the same metrics you did in challenge 1, but this time in a cross validation scheme with the `cross_val_score` function (like in Challenge 9).\n",
    "\n"
   ]
  },
  {
   "cell_type": "code",
   "execution_count": 140,
   "metadata": {
    "collapsed": true
   },
   "outputs": [],
   "source": [
    "from sklearn.cross_validation import cross_val_score\n",
    "from sklearn import preprocessing"
   ]
  },
  {
   "cell_type": "code",
   "execution_count": 161,
   "metadata": {},
   "outputs": [],
   "source": [
    "lb = preprocessing.LabelBinarizer()\n",
    "y_binarized = lb.fit_transform(y)[:,-1]"
   ]
  },
  {
   "cell_type": "code",
   "execution_count": 164,
   "metadata": {},
   "outputs": [],
   "source": [
    "recall_score = np.mean(cross_val_score(logm, X, y_binarized, scoring='recall'))\n",
    "f1_score = np.mean(cross_val_score(logm, X, y_binarized, scoring='f1'))\n",
    "precision_score = np.mean(cross_val_score(logm, X, y_binarized, scoring='precision'))\n",
    "accuracy_score = np.mean(cross_val_score(logm, X, y_binarized, scoring='accuracy'))"
   ]
  },
  {
   "cell_type": "code",
   "execution_count": 165,
   "metadata": {},
   "outputs": [
    {
     "name": "stdout",
     "output_type": "stream",
     "text": [
      "recall score: 0.952380952381\n",
      "f1 score: 0.950059445472\n",
      "precision score: 0.949398719643\n",
      "accuracy score: 0.96091954023\n"
     ]
    }
   ],
   "source": [
    "print('recall score:', recall_score)\n",
    "print('f1 score:', f1_score)\n",
    "print('precision score:', precision_score)\n",
    "print('accuracy score:', accuracy_score)"
   ]
  },
  {
   "cell_type": "markdown",
   "metadata": {},
   "source": [
    "\n",
    "#### Challenge 4\n",
    "\n",
    "For your movie classifiers, calculate the precision and recall for each class.\n",
    "\n"
   ]
  },
  {
   "cell_type": "code",
   "execution_count": 172,
   "metadata": {
    "collapsed": true
   },
   "outputs": [],
   "source": [
    "df_2 = pd.read_csv('./amazon_data/2013_movies.csv')\n",
    "df_2 = df_2.dropna()\n",
    "df_2['MonthRelease'] = df_2['ReleaseDate'].map(lambda x: pd.to_datetime(x).month)"
   ]
  },
  {
   "cell_type": "code",
   "execution_count": 173,
   "metadata": {
    "collapsed": true
   },
   "outputs": [],
   "source": [
    "y_2 = df_2['Rating'].copy()\n",
    "X_2 = df_2.drop(['Rating', 'Title', 'Director', 'ReleaseDate'], axis=1)"
   ]
  },
  {
   "cell_type": "code",
   "execution_count": 174,
   "metadata": {
    "collapsed": true
   },
   "outputs": [],
   "source": [
    "lr_model_1 = LogisticRegression()\n",
    "lr_model_2 = KNeighborsClassifier()"
   ]
  },
  {
   "cell_type": "code",
   "execution_count": 195,
   "metadata": {
    "collapsed": true
   },
   "outputs": [],
   "source": [
    "X_2_train, X_2_test, y_2_train, y_2_test = train_test_split(X_2, y_2,  test_size=.30, random_state=3333)"
   ]
  },
  {
   "cell_type": "code",
   "execution_count": 196,
   "metadata": {},
   "outputs": [
    {
     "data": {
      "text/plain": [
       "KNeighborsClassifier(algorithm='auto', leaf_size=30, metric='minkowski',\n",
       "           metric_params=None, n_jobs=1, n_neighbors=5, p=2,\n",
       "           weights='uniform')"
      ]
     },
     "execution_count": 196,
     "metadata": {},
     "output_type": "execute_result"
    }
   ],
   "source": [
    "lr_model_1.fit(X_2_train, y_2_train)\n",
    "lr_model_2.fit(X_2_train, y_2_train)"
   ]
  },
  {
   "cell_type": "code",
   "execution_count": 197,
   "metadata": {},
   "outputs": [],
   "source": [
    "y_logm_pred = lr_model_1.predict(X_2_test)\n",
    "y_kn_pred = lr_model_2.predict(X_2_test)"
   ]
  },
  {
   "cell_type": "code",
   "execution_count": 198,
   "metadata": {},
   "outputs": [
    {
     "data": {
      "text/plain": [
       "array(['PG', 'PG-13', 'R'], dtype=object)"
      ]
     },
     "execution_count": 198,
     "metadata": {},
     "output_type": "execute_result"
    }
   ],
   "source": []
  },
  {
   "cell_type": "code",
   "execution_count": 203,
   "metadata": {},
   "outputs": [
    {
     "name": "stdout",
     "output_type": "stream",
     "text": [
      "Precision: [('PG', 0.0), ('PG-13', 0.66666666666666663), ('R', 0.44444444444444442)]\n",
      "Recall: [('PG', 0.0), ('PG-13', 0.75), ('R', 0.5)]\n"
     ]
    },
    {
     "name": "stderr",
     "output_type": "stream",
     "text": [
      "/anaconda3/lib/python3.6/site-packages/sklearn/metrics/classification.py:1135: UndefinedMetricWarning: Precision is ill-defined and being set to 0.0 in labels with no predicted samples.\n",
      "  'precision', 'predicted', average, warn_for)\n"
     ]
    }
   ],
   "source": [
    "print('Precision:', list(zip(lr_model_1.classes_, metrics.precision_score(y_2_test, y_logm_pred, average=None))))\n",
    "print('Recall:', list(zip(lr_model_1.classes_, metrics.recall_score(y_2_test, y_logm_pred, average=None))))"
   ]
  },
  {
   "cell_type": "code",
   "execution_count": 204,
   "metadata": {},
   "outputs": [
    {
     "name": "stdout",
     "output_type": "stream",
     "text": [
      "Precision: [('PG', 0.0), ('PG-13', 0.6428571428571429), ('R', 0.5)]\n",
      "Recall: [('PG', 0.0), ('PG-13', 0.5625), ('R', 0.75)]\n"
     ]
    }
   ],
   "source": [
    "print('Precision:', list(zip(lr_model_1.classes_, metrics.precision_score(y_2_test, y_kn_pred, average=None))))\n",
    "print('Recall:', list(zip(lr_model_1.classes_, metrics.recall_score(y_2_test, y_kn_pred, average=None))))"
   ]
  },
  {
   "cell_type": "markdown",
   "metadata": {},
   "source": [
    "\n",
    "#### Challenge 5\n",
    "\n",
    "Draw the ROC curve (and calculate AUC) for the logistic regression classifier from challenge 12.\n"
   ]
  },
  {
   "cell_type": "code",
   "execution_count": 205,
   "metadata": {
    "collapsed": true
   },
   "outputs": [],
   "source": [
    "df_hab = pd.read_csv('https://archive.ics.uci.edu/ml/machine-learning-databases/haberman/haberman.data', header=None, names=['age', 'operation_year', 'nodes', 'survival'])"
   ]
  },
  {
   "cell_type": "code",
   "execution_count": 214,
   "metadata": {
    "collapsed": true
   },
   "outputs": [],
   "source": [
    "df_hab['survival'] = df_hab['survival'].map( lambda x: 0 if x == 2 else x)\n",
    "X = df_hab.drop(['survival'], axis=1).copy()\n",
    "y = df_hab['survival']"
   ]
  },
  {
   "cell_type": "code",
   "execution_count": 215,
   "metadata": {
    "collapsed": true
   },
   "outputs": [],
   "source": [
    "lr_model = LogisticRegression()\n",
    "X_train, X_te, y_train, y_te = train_test_split(X, y, test_size = 0.3, random_state = 44)\n",
    "lr_model.fit(X_train, y_train)\n",
    "y_pred = lr_model.predict(X_te)"
   ]
  },
  {
   "cell_type": "code",
   "execution_count": 216,
   "metadata": {},
   "outputs": [],
   "source": [
    "fpr, tpr, thresholds = metrics.roc_curve(y_te, lr_model.predict_proba(X_te)[:, 1])"
   ]
  },
  {
   "cell_type": "code",
   "execution_count": 218,
   "metadata": {},
   "outputs": [
    {
     "name": "stdout",
     "output_type": "stream",
     "text": [
      "AUC of Logistic Regression 0.664918414918\n"
     ]
    },
    {
     "data": {
      "image/png": "[encoded data removed]",
      "text/plain": [
       "<matplotlib.figure.Figure at 0x1a1c244c88>"
      ]
     },
     "metadata": {},
     "output_type": "display_data"
    }
   ],
   "source": [
    "plt.plot(fpr, tpr)\n",
    "plt.xlabel('False Positive Rate')\n",
    "plt.ylabel('True Positive Rate')\n",
    "plt.title('ROC of Logistic Regression model');\n",
    "print('AUC of Logistic Regression', metrics.auc(fpr, tpr))"
   ]
  }
 ],
 "metadata": {
  "kernelspec": {
   "display_name": "Python 3",
   "language": "python",
   "name": "python3"
  },
  "language_info": {
   "codemirror_mode": {
    "name": "ipython",
    "version": 3
   },
   "file_extension": ".py",
   "mimetype": "text/x-python",
   "name": "python",
   "nbconvert_exporter": "python",
   "pygments_lexer": "ipython3",
   "version": "3.6.3"
  }
 },
 "nbformat": 4,
 "nbformat_minor": 2
}
