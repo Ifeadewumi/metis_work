{
 "cells": [
  {
   "cell_type": "code",
   "execution_count": 95,
   "metadata": {},
   "outputs": [],
   "source": [
    "from sklearn import datasets\n",
    "from sklearn.model_selection import KFold, train_test_split\n",
    "from sklearn.linear_model import Lasso, LassoCV, Ridge, ElasticNet, LinearRegression\n",
    "import pandas as pd\n",
    "import numpy as np\n",
    "\n",
    "import matplotlib.pyplot as plt\n",
    "import seaborn as sns\n",
    "sns.set()\n",
    "\n",
    "%matplotlib inline"
   ]
  },
  {
   "cell_type": "code",
   "execution_count": 93,
   "metadata": {},
   "outputs": [],
   "source": [
    "data = sklearn.datasets.load_diabetes()"
   ]
  },
  {
   "cell_type": "code",
   "execution_count": 58,
   "metadata": {
    "collapsed": true
   },
   "outputs": [],
   "source": [
    "df = pd.DataFrame(data.data, columns=data.feature_names)\n",
    "df['target'] = data.target"
   ]
  },
  {
   "cell_type": "code",
   "execution_count": 90,
   "metadata": {},
   "outputs": [],
   "source": [
    "# X, y = df.drop('target', axis=1), df['target']\n",
    "# No need to convert to dataframe\n",
    "X, y = data.data, data.target"
   ]
  },
  {
   "cell_type": "code",
   "execution_count": 67,
   "metadata": {
    "collapsed": true
   },
   "outputs": [],
   "source": []
  },
  {
   "cell_type": "code",
   "execution_count": 68,
   "metadata": {},
   "outputs": [],
   "source": [
    "kf = KFold(n_splits=5, shuffle=True, random_state = 0)"
   ]
  },
  {
   "cell_type": "code",
   "execution_count": 99,
   "metadata": {},
   "outputs": [
    {
     "name": "stdout",
     "output_type": "stream",
     "text": [
      "0.0387073907735 , 272.327839336\n",
      "0.00502169608166 , 272.430348033\n",
      "0.001 , 274.062970042\n",
      "0.001 , 272.635362306\n"
     ]
    }
   ],
   "source": [
    "alphalist = 10**(np.linspace(-3,0,2000))\n",
    "\n",
    "err_vec_val = np.zeros(len(alphalist))\n",
    "err_vec_val_ridge = np.zeros(len(alphalist))\n",
    "err_vec_val_elastic = np.zeros(len(alphalist))\n",
    "err_vec_val_base = np.zeros(len(alphalist))\n",
    "\n",
    "\n",
    "\n",
    "for i, curr_alpha in enumerate(alphalist):\n",
    "    lasso = Lasso(alpha = curr_alpha)\n",
    "    ridge_lr = Ridge(alpha = curr_alpha)\n",
    "    elastic_lr = ElasticNet(alpha = curr_alpha)\n",
    "    base_lr = LinearRegression()\n",
    "\n",
    "    total_error = 0\n",
    "    total_error_ridge = 0\n",
    "    total_error_elastic = 0\n",
    "    total_error_base = 0\n",
    "    \n",
    "    for train_ind, val_ind in kf.split(X, y):\n",
    "        X_train, y_train = X[train_ind], y[train_ind]\n",
    "        X_val, y_val = X[val_ind], y[val_ind]\n",
    "        \n",
    "        lasso.fit(X_train, y_train)\n",
    "        ridge_lr.fit(X_train, y_train)\n",
    "        elastic_lr.fit(X_train, y_train)\n",
    "        base_lr.fit(X_train, y_train)\n",
    "        \n",
    "        val_pred_lasso = lasso.predict(X_val)\n",
    "        val_pred_ridge = ridge_lr.predict(X_val)\n",
    "        val_pred_elastic = elastic_lr.predict(X_val)\n",
    "        val_pred_base = base_lr.predict(X_val)\n",
    "        \n",
    "        \n",
    "        test_error = np.sqrt(np.mean((val_pred_lasso - y_val)**2))\n",
    "        total_error += test_error\n",
    "        total_error_ridge += np.sqrt(np.mean((val_pred_ridge - y_val)**2))\n",
    "        total_error_elastic += np.sqrt(np.mean((val_pred_elastic - y_val)**2))\n",
    "        total_error_base += np.sqrt(np.mean((val_pred_base - y_val)**2))\n",
    "        \n",
    "    err_vec_val[i] = total_error\n",
    "    err_vec_val_ridge[i] = total_error_ridge\n",
    "    err_vec_val_elastic[i] = total_error_elastic\n",
    "    err_vec_val_base[i] = total_error_base\n",
    "                \n",
    "print(alphalist[np.argmin(err_vec_val)], ',', np.min(err_vec_val))\n",
    "print(alphalist[np.argmin(err_vec_val_ridge)], ',', np.min(err_vec_val_ridge))\n",
    "print(alphalist[np.argmin(err_vec_val_elastic)], ',', np.min(err_vec_val_elastic))\n",
    "print(alphalist[np.argmin(err_vec_val_base)], ',', np.min(err_vec_val_base))\n",
    "\n",
    "best_alpha = alphalist[np.argmin(err_vec_val)]"
   ]
  },
  {
   "cell_type": "code",
   "execution_count": 101,
   "metadata": {},
   "outputs": [
    {
     "data": {
      "text/plain": [
       "[<matplotlib.lines.Line2D at 0x1a1743d3c8>]"
      ]
     },
     "execution_count": 101,
     "metadata": {},
     "output_type": "execute_result"
    },
    {
     "data": {
      "image/png": "[encoded data removed]",
      "text/plain": [
       "<matplotlib.figure.Figure at 0x1a0db16860>"
      ]
     },
     "metadata": {},
     "output_type": "display_data"
    }
   ],
   "source": [
    "plt.plot(np.log10(alphalist),err_vec_val)"
   ]
  },
  {
   "cell_type": "code",
   "execution_count": 84,
   "metadata": {
    "collapsed": true
   },
   "outputs": [],
   "source": [
    "X_train, X_test, y_train, y_test = train_test_split(X, y, test_size=0.2,random_state=0)\n"
   ]
  },
  {
   "cell_type": "code",
   "execution_count": 86,
   "metadata": {},
   "outputs": [
    {
     "data": {
      "text/plain": [
       "Lasso(alpha=0.038573864143794066, copy_X=True, fit_intercept=True,\n",
       "   max_iter=1000, normalize=False, positive=False, precompute=False,\n",
       "   random_state=None, selection='cyclic', tol=0.0001, warm_start=False)"
      ]
     },
     "execution_count": 86,
     "metadata": {},
     "output_type": "execute_result"
    }
   ],
   "source": [
    "lasso = Lasso(alpha = best_alpha)\n",
    "lasso.fit(X_train, y_train)"
   ]
  },
  {
   "cell_type": "code",
   "execution_count": 89,
   "metadata": {},
   "outputs": [
    {
     "data": {
      "text/plain": [
       "[('age', -8.618718135569063),\n",
       " ('sex', -211.04417126133509),\n",
       " ('bmi', 564.57804920213096),\n",
       " ('bp', 273.8757887295464),\n",
       " ('s1', -172.828394565743),\n",
       " ('s2', -0.0),\n",
       " ('s3', -222.10134135370814),\n",
       " ('s4', 15.862187807844451),\n",
       " ('s5', 565.45943038781149),\n",
       " ('s6', 30.994454624143629)]"
      ]
     },
     "execution_count": 89,
     "metadata": {},
     "output_type": "execute_result"
    }
   ],
   "source": [
    "list(zip(data.feature_names,lasso.coef_))"
   ]
  },
  {
   "cell_type": "code",
   "execution_count": 97,
   "metadata": {},
   "outputs": [],
   "source": []
  },
  {
   "cell_type": "code",
   "execution_count": null,
   "metadata": {
    "collapsed": true
   },
   "outputs": [],
   "source": []
  }
 ],
 "metadata": {
  "kernelspec": {
   "display_name": "Python 3",
   "language": "python",
   "name": "python3"
  },
  "language_info": {
   "codemirror_mode": {
    "name": "ipython",
    "version": 3
   },
   "file_extension": ".py",
   "mimetype": "text/x-python",
   "name": "python",
   "nbconvert_exporter": "python",
   "pygments_lexer": "ipython3",
   "version": "3.6.3"
  }
 },
 "nbformat": 4,
 "nbformat_minor": 2
}
