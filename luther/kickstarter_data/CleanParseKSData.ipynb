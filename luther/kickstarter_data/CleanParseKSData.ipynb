{
 "cells": [
  {
   "cell_type": "code",
   "execution_count": 1,
   "metadata": {},
   "outputs": [],
   "source": [
    "import os\n",
    "import glob\n",
    "import pandas as pd\n",
    "import json"
   ]
  },
  {
   "cell_type": "code",
   "execution_count": 69,
   "metadata": {},
   "outputs": [],
   "source": [
    "paths = [(\"./Kickstarter_2017-02*/*.csv\", \"02\"),\n",
    "         (\"./Kickstarter_2017-03*/*.csv\", \"03\"),\n",
    "         (\"./Kickstarter_2017-04*/*.csv\", \"04\"),\n",
    "         (\"./Kickstarter_2017-05*/*.csv\", \"05\"),\n",
    "         (\"./Kickstarter_2017-06*/*.csv\", \"06\"),\n",
    "         (\"./Kickstarter_2017-07*/*.csv\", \"07\"),\n",
    "         (\"./Kickstarter_2017-08*/*.csv\", \"08\"),\n",
    "         (\"./Kickstarter_2017-09*/*.csv\", \"09\"),\n",
    "         (\"./Kickstarter_2017-10*/*.csv\", \"10\"),\n",
    "         (\"./Kickstarter_2017-11*/*.csv\", \"11\"),\n",
    "         (\"./Kickstarter_2017-12*/*.csv\", \"12\"),\n",
    "         (\"./Kickstarter_2018-01*/*.csv\", \"01\")]"
   ]
  },
  {
   "cell_type": "code",
   "execution_count": 70,
   "metadata": {
    "collapsed": true
   },
   "outputs": [],
   "source": [
    "def extract_category(json_string):\n",
    "    try:\n",
    "        category_json = json.loads(json_string)\n",
    "    except:\n",
    "#         print('Category Slug Not Found')\n",
    "        return \"NA\"\n",
    "    return category_json[\"slug\"]"
   ]
  },
  {
   "cell_type": "code",
   "execution_count": 71,
   "metadata": {
    "collapsed": true
   },
   "outputs": [],
   "source": [
    "def extract_url(json_string):\n",
    "    try:\n",
    "        url_json = json.loads(json_string)\n",
    "    except:\n",
    "#         print('URL Not Found')\n",
    "        return \"NA\"\n",
    "    return url_json[\"web\"][\"project\"]"
   ]
  },
  {
   "cell_type": "code",
   "execution_count": 72,
   "metadata": {
    "collapsed": true
   },
   "outputs": [],
   "source": [
    "def extract_location(json_string):\n",
    "    try:\n",
    "        location_json = json.loads(json_string)\n",
    "    except:\n",
    "#         print('Location Not Found')\n",
    "        return \"NA\"\n",
    "    return location_json[\"urls\"][\"web\"][\"location\"]"
   ]
  },
  {
   "cell_type": "code",
   "execution_count": 73,
   "metadata": {
    "collapsed": true
   },
   "outputs": [],
   "source": [
    "def extract_creator(json_string):\n",
    "    try:\n",
    "        creator_json = json.loads(json_string)\n",
    "    except:\n",
    "        print('Location Not Found')\n",
    "        return \"NA\"\n",
    "    return creator_json[\"urls\"][\"web\"][\"user\"]"
   ]
  },
  {
   "cell_type": "code",
   "execution_count": 74,
   "metadata": {},
   "outputs": [],
   "source": [
    "def clean_df(concatenated_df):    \n",
    "    concatenated_df = concatenated_df.drop(['currency_trailing_code', 'photo', 'slug', 'disable_communication', 'profile', 'source_url'], axis=1)\n",
    "    concatenated_df['category'] = concatenated_df['category'].apply(extract_category)\n",
    "    concatenated_df['url'] = concatenated_df['urls'].apply(extract_url)\n",
    "    concatenated_df['location'] = concatenated_df['location'].apply(extract_location)\n",
    "    concatenated_df['creator'] = concatenated_df['creator'].apply(extract_creator)\n",
    "    concatenated_df.drop('urls', axis=1, inplace=True)\n",
    "    return concatenated_df"
   ]
  },
  {
   "cell_type": "code",
   "execution_count": 75,
   "metadata": {
    "collapsed": true
   },
   "outputs": [],
   "source": [
    "def join_clean_csvs(file_path):\n",
    "    allFiles = glob.glob(file_path[0])\n",
    "    allFiles = sorted(allFiles)\n",
    "    df_from_each_file = (pd.read_csv(f) for f in allFiles)\n",
    "    concatenated_df = pd.concat(df_from_each_file, ignore_index=True)\n",
    "    cleaned_df = clean_df(concatenated_df)\n",
    "    cleaned_df.to_csv(file_path[1] + '.csv')\n",
    "    "
   ]
  },
  {
   "cell_type": "code",
   "execution_count": null,
   "metadata": {},
   "outputs": [],
   "source": [
    "for path in paths:\n",
    "    join_clean_csvs(path)"
   ]
  }
 ],
 "metadata": {
  "kernelspec": {
   "display_name": "Python 3",
   "language": "python",
   "name": "python3"
  },
  "language_info": {
   "codemirror_mode": {
    "name": "ipython",
    "version": 3
   },
   "file_extension": ".py",
   "mimetype": "text/x-python",
   "name": "python",
   "nbconvert_exporter": "python",
   "pygments_lexer": "ipython3",
   "version": "3.6.3"
  }
 },
 "nbformat": 4,
 "nbformat_minor": 2
}
