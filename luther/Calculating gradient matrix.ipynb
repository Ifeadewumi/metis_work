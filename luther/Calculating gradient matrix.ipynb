{
 "cells": [
  {
   "cell_type": "code",
   "execution_count": 34,
   "metadata": {
    "collapsed": true
   },
   "outputs": [],
   "source": [
    "def return_gradient(x,y):  \n",
    "    x_gradient = (2*x - 8)/3 - 5/6\n",
    "    y_gradient = y/3\n",
    "#     x_gradient = (2/3)*x - (7/2)\n",
    "#     y_gradient = y/3\n",
    "    return x_gradient, y_gradient"
   ]
  },
  {
   "cell_type": "code",
   "execution_count": 35,
   "metadata": {
    "collapsed": true
   },
   "outputs": [],
   "source": [
    "def return_new_coordinates(x,y,learning_rate = 1):\n",
    "    x_grad, y_grad = return_gradient(x,y)\n",
    "    new_x = x - x_grad * learning_rate\n",
    "    new_y = y - y_grad * learning_rate\n",
    "    return new_x, new_y"
   ]
  },
  {
   "cell_type": "code",
   "execution_count": 41,
   "metadata": {},
   "outputs": [
    {
     "name": "stdout",
     "output_type": "stream",
     "text": [
      "5.25\n",
      "5e-324\n"
     ]
    }
   ],
   "source": [
    "x_coor, y_coor = 9, 6\n",
    "for i in range(100000):\n",
    "    x_coor, y_coor = return_new_coordinates(x_coor, y_coor, 1)\n",
    "\n",
    "print(x_coor)\n",
    "print(y_coor)"
   ]
  },
  {
   "cell_type": "code",
   "execution_count": null,
   "metadata": {
    "collapsed": true
   },
   "outputs": [],
   "source": []
  }
 ],
 "metadata": {
  "kernelspec": {
   "display_name": "Python 3",
   "language": "python",
   "name": "python3"
  },
  "language_info": {
   "codemirror_mode": {
    "name": "ipython",
    "version": 3
   },
   "file_extension": ".py",
   "mimetype": "text/x-python",
   "name": "python",
   "nbconvert_exporter": "python",
   "pygments_lexer": "ipython3",
   "version": "3.6.3"
  }
 },
 "nbformat": 4,
 "nbformat_minor": 2
}
