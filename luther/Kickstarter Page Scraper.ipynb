{
 "cells": [
  {
   "cell_type": "code",
   "execution_count": 3,
   "metadata": {
    "collapsed": true
   },
   "outputs": [],
   "source": [
    "# if needed: conda install requests\n",
    "import requests\n",
    "from bs4 import BeautifulSoup\n",
    "import re\n",
    "import time\n",
    "import datetime\n",
    "from fake_useragent import UserAgent\n",
    "\n",
    "ua = UserAgent()"
   ]
  },
  {
   "cell_type": "code",
   "execution_count": 4,
   "metadata": {},
   "outputs": [],
   "source": [
    "page_url_successful = \"https://www.kickstarter.com/projects/1562823940/imaginary-drugs\"\n",
    "page_url_failed = \"https://www.kickstarter.com/projects/1579473521/re-sail-bags-hand-crafted-in-redondo-beach-from-us\"\n",
    "page_url_ongoing = \"https://www.kickstarter.com/projects/1873003291/onemanband-a-new-way-to-play-guitar\"\n",
    "\n",
    "\n",
    "user_agent = {'User-agent': ua.random}\n",
    "response_successful  = requests.get(page_url_successful, headers = user_agent)\n",
    "response_failed  = requests.get(page_url_failed, headers = user_agent)\n",
    "response_ongoing  = requests.get(page_url_ongoing, headers = user_agent)\n"
   ]
  },
  {
   "cell_type": "code",
   "execution_count": 5,
   "metadata": {},
   "outputs": [],
   "source": [
    "bs_ongoing = BeautifulSoup(response_ongoing.text, \"lxml\")\n",
    "bs_failed = BeautifulSoup(response_failed.text, \"lxml\")\n",
    "bs_successful = BeautifulSoup(response_successful.text, \"lxml\")"
   ]
  },
  {
   "cell_type": "code",
   "execution_count": 6,
   "metadata": {},
   "outputs": [
    {
     "data": {
      "text/plain": [
       "'New York, NY'"
      ]
     },
     "execution_count": 6,
     "metadata": {},
     "output_type": "execute_result"
    }
   ],
   "source": [
    "bs_ongoing.find_all('a', href=re.compile(r'/discover/places/'))[-1].text.strip()"
   ]
  },
  {
   "cell_type": "code",
   "execution_count": 7,
   "metadata": {},
   "outputs": [
    {
     "data": {
      "text/plain": [
       "'Redondo Beach, CA'"
      ]
     },
     "execution_count": 7,
     "metadata": {},
     "output_type": "execute_result"
    }
   ],
   "source": [
    "bs_failed.find_all('a', href=re.compile(r'/discover/places/'))[-1].text.strip()"
   ]
  },
  {
   "cell_type": "code",
   "execution_count": 8,
   "metadata": {},
   "outputs": [
    {
     "data": {
      "text/plain": [
       "'Barnegat, NJ'"
      ]
     },
     "execution_count": 8,
     "metadata": {},
     "output_type": "execute_result"
    }
   ],
   "source": [
    "bs_successful.find_all('a', href=re.compile(r'/discover/places/'))[-1].text.strip()"
   ]
  },
  {
   "cell_type": "code",
   "execution_count": 22,
   "metadata": {},
   "outputs": [
    {
     "data": {
      "text/plain": [
       "'Sound'"
      ]
     },
     "execution_count": 22,
     "metadata": {},
     "output_type": "execute_result"
    }
   ],
   "source": [
    "bs_ongoing.find_all('a', href=re.compile(r'/discover/categories/'))[-1].text.strip()"
   ]
  },
  {
   "cell_type": "code",
   "execution_count": 23,
   "metadata": {},
   "outputs": [
    {
     "data": {
      "text/plain": [
       "'Comics'"
      ]
     },
     "execution_count": 23,
     "metadata": {},
     "output_type": "execute_result"
    }
   ],
   "source": [
    "bs_successful.find_all('a', href=re.compile(r'/discover/categories/'))[-1].text.strip()"
   ]
  },
  {
   "cell_type": "code",
   "execution_count": 24,
   "metadata": {},
   "outputs": [
    {
     "data": {
      "text/plain": [
       "'Crafts'"
      ]
     },
     "execution_count": 24,
     "metadata": {},
     "output_type": "execute_result"
    }
   ],
   "source": [
    "bs_failed.find_all('a', href=re.compile(r'/discover/categories/'))[-1].text.strip()"
   ]
  },
  {
   "cell_type": "code",
   "execution_count": 9,
   "metadata": {
    "collapsed": true
   },
   "outputs": [],
   "source": [
    "all_categories = bs_ongoing.find_all('li', class_='pledge-selectable-sidebar')"
   ]
  },
  {
   "cell_type": "code",
   "execution_count": 32,
   "metadata": {},
   "outputs": [
    {
     "data": {
      "text/plain": [
       "4"
      ]
     },
     "execution_count": 32,
     "metadata": {},
     "output_type": "execute_result"
    }
   ],
   "source": [
    "len(all_categories)"
   ]
  },
  {
   "cell_type": "code",
   "execution_count": 21,
   "metadata": {},
   "outputs": [
    {
     "data": {
      "text/plain": [
       "'1,095 backers'"
      ]
     },
     "execution_count": 21,
     "metadata": {},
     "output_type": "execute_result"
    }
   ],
   "source": [
    "all_categories[1].find('span', class_='pledge__backer-count').text.strip()"
   ]
  },
  {
   "cell_type": "code",
   "execution_count": 14,
   "metadata": {},
   "outputs": [
    {
     "data": {
      "text/plain": [
       "[]"
      ]
     },
     "execution_count": 14,
     "metadata": {},
     "output_type": "execute_result"
    }
   ],
   "source": [
    "all_categories[0]"
   ]
  },
  {
   "cell_type": "code",
   "execution_count": 39,
   "metadata": {},
   "outputs": [
    {
     "data": {
      "text/plain": [
       "[('0 backers', '$25'),\n",
       " ('3 backers', '$50'),\n",
       " ('1 backer', '$100'),\n",
       " ('0 backers', '$250')]"
      ]
     },
     "execution_count": 39,
     "metadata": {},
     "output_type": "execute_result"
    }
   ],
   "source": [
    "[(category.find('span', class_='pledge__backer-count').text.strip(), category.find('span', class_='money').text.strip()) for category in all_categories]"
   ]
  },
  {
   "cell_type": "code",
   "execution_count": 37,
   "metadata": {},
   "outputs": [
    {
     "data": {
      "text/plain": [
       "['$25', '$50', '$100', '$250']"
      ]
     },
     "execution_count": 37,
     "metadata": {},
     "output_type": "execute_result"
    }
   ],
   "source": [
    "[ for category in all_categories]"
   ]
  },
  {
   "cell_type": "code",
   "execution_count": null,
   "metadata": {
    "collapsed": true
   },
   "outputs": [],
   "source": []
  },
  {
   "cell_type": "code",
   "execution_count": 22,
   "metadata": {},
   "outputs": [
    {
     "data": {
      "text/plain": [
       "[('1,095 backers', 'US$ 149'),\n",
       " ('292 backers', '$249'),\n",
       " ('362 backers', '$299'),\n",
       " ('97 backers', '$399'),\n",
       " ('28 backers', '$449'),\n",
       " ('33 backers', '$549'),\n",
       " ('95 backers', '$599'),\n",
       " ('137 backers', 'US$ 699'),\n",
       " ('175 backers', '$129'),\n",
       " ('35 backers', '$229'),\n",
       " ('84 backers', '$259'),\n",
       " ('22 backers', '$359'),\n",
       " ('10 backers', '$559')]"
      ]
     },
     "execution_count": 22,
     "metadata": {},
     "output_type": "execute_result"
    }
   ],
   "source": [
    "[(category.find('span', class_='pledge__backer-count').text.strip(), category.find('span', class_='money').text.strip()) for category in all_categories[1:]]"
   ]
  },
  {
   "cell_type": "code",
   "execution_count": null,
   "metadata": {
    "collapsed": true
   },
   "outputs": [],
   "source": []
  }
 ],
 "metadata": {
  "kernelspec": {
   "display_name": "Python 3",
   "language": "python",
   "name": "python3"
  },
  "language_info": {
   "codemirror_mode": {
    "name": "ipython",
    "version": 3
   },
   "file_extension": ".py",
   "mimetype": "text/x-python",
   "name": "python",
   "nbconvert_exporter": "python",
   "pygments_lexer": "ipython3",
   "version": "3.6.3"
  }
 },
 "nbformat": 4,
 "nbformat_minor": 2
}
