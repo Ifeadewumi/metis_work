{
 "cells": [
  {
   "cell_type": "code",
   "execution_count": 40,
   "metadata": {
    "collapsed": true
   },
   "outputs": [],
   "source": [
    "import pandas as pd\n",
    "from sklearn.datasets import california_housing\n",
    "from sklearn.model_selection import train_test_split\n",
    "from sklearn.linear_model import LinearRegression\n",
    "from sklearn.tree import DecisionTreeRegressor\n",
    "from sklearn.metrics import r2_score\n"
   ]
  },
  {
   "cell_type": "code",
   "execution_count": 15,
   "metadata": {},
   "outputs": [],
   "source": [
    "housing_dataset = california_housing.fetch_california_housing() \n",
    "X = pd.DataFrame(housing_dataset.data) \n",
    "X.columns = housing_dataset.feature_names \n",
    "y = housing_dataset.target\n",
    "\n",
    "X_train, X_test, y_train, y_test = train_test_split(X, y, test_size=0.2, random_state=2018)"
   ]
  },
  {
   "cell_type": "code",
   "execution_count": 16,
   "metadata": {},
   "outputs": [],
   "source": [
    "lr = LinearRegression()"
   ]
  },
  {
   "cell_type": "code",
   "execution_count": 59,
   "metadata": {
    "collapsed": true
   },
   "outputs": [],
   "source": [
    "class myModel:\n",
    "    def __init__(self, X, y, n_estimators=10):\n",
    "        self.C = sum(y)/len(y)\n",
    "        residuals = [ y_i - self.C for y_i in y]\n",
    "        self.trees = []\n",
    "        for _ in range(n_estimators):\n",
    "            tree_model = DecisionTreeRegressor(max_depth=4)\n",
    "            tree_model.fit(X, residuals)\n",
    "            self.trees.append(tree_model)\n",
    "            y_pred = tree_model.predict(X)\n",
    "            residuals = residuals - y_pred\n",
    "\n",
    "    def predict(self, x):\n",
    "        all_predictions = []\n",
    "        for tree in self.trees:\n",
    "            all_predictions.append(tree.predict(x))\n",
    "        sum_of_preds = []\n",
    "        for column in range(len(x)):\n",
    "            sum_of_preds.append(sum(row[column] for row in all_predictions))\n",
    "        sum_of_preds = [pred + self.C for pred in sum_of_preds]\n",
    "        return sum_of_preds\n",
    "        "
   ]
  },
  {
   "cell_type": "code",
   "execution_count": 60,
   "metadata": {},
   "outputs": [],
   "source": [
    "my_model = myModel(X_train, y_train, n_estimators=10)"
   ]
  },
  {
   "cell_type": "code",
   "execution_count": 61,
   "metadata": {},
   "outputs": [],
   "source": [
    "y_pred = my_model.predict(X_test)"
   ]
  },
  {
   "cell_type": "code",
   "execution_count": 62,
   "metadata": {},
   "outputs": [
    {
     "data": {
      "text/plain": [
       "0.77913420947889755"
      ]
     },
     "execution_count": 62,
     "metadata": {},
     "output_type": "execute_result"
    }
   ],
   "source": [
    "r2_score(y_test, y_pred)"
   ]
  },
  {
   "cell_type": "code",
   "execution_count": null,
   "metadata": {
    "collapsed": true
   },
   "outputs": [],
   "source": []
  }
 ],
 "metadata": {
  "kernelspec": {
   "display_name": "Python 3",
   "language": "python",
   "name": "python3"
  },
  "language_info": {
   "codemirror_mode": {
    "name": "ipython",
    "version": 3
   },
   "file_extension": ".py",
   "mimetype": "text/x-python",
   "name": "python",
   "nbconvert_exporter": "python",
   "pygments_lexer": "ipython3",
   "version": "3.6.3"
  }
 },
 "nbformat": 4,
 "nbformat_minor": 2
}
